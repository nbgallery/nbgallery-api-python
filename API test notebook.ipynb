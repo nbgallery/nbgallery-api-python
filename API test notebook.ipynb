{
 "cells": [
  {
   "cell_type": "code",
   "execution_count": 14,
   "metadata": {
    "ExecuteTime": {
     "end_time": "2019-04-28T17:14:20.611417-04:00",
     "start_time": "2019-04-28T17:14:20.599700Z"
    }
   },
   "outputs": [
    {
     "data": {
      "text/plain": [
       "<Response [200]>"
      ]
     },
     "execution_count": 14,
     "metadata": {},
     "output_type": "execute_result"
    }
   ],
   "source": [
    "import requests\n",
    "\n",
    "base = 'http://192.168.99.100:5000'\n",
    "\n",
    "resp = requests.get(base)\n",
    "resp"
   ]
  },
  {
   "cell_type": "code",
   "execution_count": 15,
   "metadata": {
    "ExecuteTime": {
     "end_time": "2019-04-28T17:14:20.754417-04:00",
     "start_time": "2019-04-28T17:14:20.612380Z"
    }
   },
   "outputs": [
    {
     "data": {
      "text/plain": [
       "<Response [200]>"
      ]
     },
     "execution_count": 15,
     "metadata": {},
     "output_type": "execute_result"
    }
   ],
   "source": [
    "# GET /environments\n",
    "resp = requests.get(base + '/environments')\n",
    "resp"
   ]
  },
  {
   "cell_type": "code",
   "execution_count": 16,
   "metadata": {
    "ExecuteTime": {
     "end_time": "2019-04-28T17:14:20.857907-04:00",
     "start_time": "2019-04-28T17:14:20.758323Z"
    }
   },
   "outputs": [
    {
     "data": {
      "text/plain": [
       "[{'name': 'default', 'url': 'http://localhost:8888'}]"
      ]
     },
     "execution_count": 16,
     "metadata": {},
     "output_type": "execute_result"
    }
   ],
   "source": [
    "resp.json()"
   ]
  },
  {
   "cell_type": "code",
   "execution_count": 17,
   "metadata": {
    "ExecuteTime": {
     "end_time": "2019-04-28T17:14:21.117969-04:00",
     "start_time": "2019-04-28T17:14:20.858871Z"
    }
   },
   "outputs": [
    {
     "data": {
      "text/plain": [
       "<Response [200]>"
      ]
     },
     "execution_count": 17,
     "metadata": {},
     "output_type": "execute_result"
    }
   ],
   "source": [
    "# CREATE new environment\n",
    "d = {'name' : 'new env',\n",
    "     'url' : 'https://localhost:1234'}\n",
    "url = base + '/environments'\n",
    "resp = requests.post(url, json=d)\n",
    "resp"
   ]
  },
  {
   "cell_type": "code",
   "execution_count": 18,
   "metadata": {
    "ExecuteTime": {
     "end_time": "2019-04-28T17:14:21.126747-04:00",
     "start_time": "2019-04-28T17:14:21.120881Z"
    }
   },
   "outputs": [
    {
     "data": {
      "text/plain": [
       "''"
      ]
     },
     "execution_count": 18,
     "metadata": {},
     "output_type": "execute_result"
    }
   ],
   "source": [
    "resp.text"
   ]
  },
  {
   "cell_type": "code",
   "execution_count": 19,
   "metadata": {
    "ExecuteTime": {
     "end_time": "2019-04-28T17:14:21.238954-04:00",
     "start_time": "2019-04-28T17:14:21.129664Z"
    }
   },
   "outputs": [
    {
     "data": {
      "text/plain": [
       "[{'name': 'default', 'url': 'http://localhost:8888'},\n",
       " {'name': 'new env', 'url': 'https://localhost:1234'}]"
      ]
     },
     "execution_count": 19,
     "metadata": {},
     "output_type": "execute_result"
    }
   ],
   "source": [
    "# Check that new environment is there\n",
    "resp = requests.get(base + '/environments')\n",
    "resp.json()"
   ]
  },
  {
   "cell_type": "code",
   "execution_count": 20,
   "metadata": {
    "ExecuteTime": {
     "end_time": "2019-04-28T17:14:21.439879-04:00",
     "start_time": "2019-04-28T17:14:21.242874Z"
    }
   },
   "outputs": [
    {
     "data": {
      "text/plain": [
       "<Response [200]>"
      ]
     },
     "execution_count": 20,
     "metadata": {},
     "output_type": "execute_result"
    }
   ],
   "source": [
    "# GET /notebooks/<id 1>\n",
    "import uuid\n",
    "i = uuid.UUID(int=1).hex\n",
    "resp = requests.get(base + '/notebooks/%s' % i)\n",
    "resp"
   ]
  },
  {
   "cell_type": "code",
   "execution_count": 21,
   "metadata": {
    "ExecuteTime": {
     "end_time": "2019-04-28T17:14:21.540545-04:00",
     "start_time": "2019-04-28T17:14:21.442805Z"
    }
   },
   "outputs": [
    {
     "data": {
      "text/plain": [
       "{'description': 'Default DB notebook entry',\n",
       " 'notebook': {'cells': [],\n",
       "  'language_info': {},\n",
       "  'metadata': {'display_name': 'Python 3',\n",
       "   'language': 'python',\n",
       "   'name': 'python3'},\n",
       "  'nbformat': 4,\n",
       "  'nbformat_minor': 2},\n",
       " 'title': 'Default DB notebook',\n",
       " 'uuid': '00000000000000000000000000000001'}"
      ]
     },
     "execution_count": 21,
     "metadata": {},
     "output_type": "execute_result"
    }
   ],
   "source": [
    "resp.json()"
   ]
  },
  {
   "cell_type": "code",
   "execution_count": 22,
   "metadata": {
    "ExecuteTime": {
     "end_time": "2019-04-28T17:14:21.800598-04:00",
     "start_time": "2019-04-28T17:14:21.541509Z"
    }
   },
   "outputs": [
    {
     "data": {
      "text/plain": [
       "<Response [200]>"
      ]
     },
     "execution_count": 22,
     "metadata": {},
     "output_type": "execute_result"
    }
   ],
   "source": [
    "# CREATE new notebook\n",
    "import nbformat\n",
    "nb = nbformat.read('API test notebook.ipynb', as_version=nbformat.NO_CONVERT)\n",
    "# simulate clear output\n",
    "for item in nb['cells']:\n",
    "    if item['cell_type'] == 'code':\n",
    "        item['outputs'] = []\n",
    "        \n",
    "js = {'title' : 'uploaded.ipynb',\n",
    "      'description' : 'API test notebook upload',\n",
    "      'notebook' : nb}\n",
    "\n",
    "url = base + '/stages'\n",
    "resp = requests.post(url, json=js)\n",
    "resp"
   ]
  },
  {
   "cell_type": "code",
   "execution_count": 23,
   "metadata": {
    "ExecuteTime": {
     "end_time": "2019-04-28T17:14:21.809361-04:00",
     "start_time": "2019-04-28T17:14:21.802549Z"
    }
   },
   "outputs": [
    {
     "data": {
      "text/plain": [
       "'c6637efb40b948dbb7cd7198e00d36e6'"
      ]
     },
     "execution_count": 23,
     "metadata": {},
     "output_type": "execute_result"
    }
   ],
   "source": [
    "new_uuid = resp.text\n",
    "new_uuid"
   ]
  },
  {
   "cell_type": "code",
   "execution_count": 24,
   "metadata": {
    "ExecuteTime": {
     "end_time": "2019-04-28T17:14:21.923777-04:00",
     "start_time": "2019-04-28T17:14:21.811314Z"
    }
   },
   "outputs": [
    {
     "data": {
      "text/plain": [
       "<Response [200]>"
      ]
     },
     "execution_count": 24,
     "metadata": {},
     "output_type": "execute_result"
    }
   ],
   "source": [
    "# GET /notebooks/<new uuid>\n",
    "import uuid\n",
    "resp = requests.get(base + '/notebooks/%s' % new_uuid)\n",
    "resp"
   ]
  },
  {
   "cell_type": "code",
   "execution_count": 25,
   "metadata": {
    "ExecuteTime": {
     "end_time": "2019-04-28T17:14:22.033265-04:00",
     "start_time": "2019-04-28T17:14:21.924739Z"
    }
   },
   "outputs": [
    {
     "data": {
      "text/plain": [
       "dict_keys(['uuid', 'description', 'title', 'notebook'])"
      ]
     },
     "execution_count": 25,
     "metadata": {},
     "output_type": "execute_result"
    }
   ],
   "source": [
    "js = resp.json()\n",
    "js.keys()"
   ]
  },
  {
   "cell_type": "code",
   "execution_count": 26,
   "metadata": {
    "ExecuteTime": {
     "end_time": "2019-04-28T17:14:22.152360-04:00",
     "start_time": "2019-04-28T17:14:22.035217Z"
    }
   },
   "outputs": [],
   "source": [
    "# Write notebook to file\n",
    "import json\n",
    "with open(js['title'], 'w') as fp:\n",
    "    # add nbgallery uuid to notebook metadata\n",
    "    js['notebook']['metadata']['NBGALLERY_UUID'] = js['uuid']\n",
    "    s = json.dumps(js['notebook']) # nbformat takes strings to read, not dict objects\n",
    "    nb = nbformat.reads(s, as_version=nbformat.NO_CONVERT)\n",
    "    nbformat.write(nb, fp)"
   ]
  },
  {
   "cell_type": "code",
   "execution_count": null,
   "metadata": {},
   "outputs": [],
   "source": []
  }
 ],
 "metadata": {
  "kernelspec": {
   "display_name": "Python 3",
   "language": "python",
   "name": "python3"
  },
  "language_info": {
   "codemirror_mode": {
    "name": "ipython",
    "version": 3
   },
   "file_extension": ".py",
   "mimetype": "text/x-python",
   "name": "python",
   "nbconvert_exporter": "python",
   "pygments_lexer": "ipython3",
   "version": "3.5.1"
  }
 },
 "nbformat": 4,
 "nbformat_minor": 2
}
