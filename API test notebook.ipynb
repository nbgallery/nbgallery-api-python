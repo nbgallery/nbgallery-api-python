{
 "cells": [
  {
   "cell_type": "code",
   "execution_count": null,
   "metadata": {
    "ExecuteTime": {
     "end_time": "2019-04-28T18:58:44.915274-04:00",
     "start_time": "2019-04-28T18:58:44.395589Z"
    }
   },
   "outputs": [],
   "source": [
    "import requests\n",
    "\n",
    "### Entry point for docker/flask on Windows\n",
    "base = 'http://192.168.99.100:5000'\n",
    "\n",
    "### Entry point for linux probably\n",
    "# base = 'http://127.0.0.1:5000'\n",
    "\n",
    "resp = requests.get(base)\n",
    "resp"
   ]
  },
  {
   "cell_type": "code",
   "execution_count": null,
   "metadata": {
    "ExecuteTime": {
     "end_time": "2019-04-28T18:58:44.927953-04:00",
     "start_time": "2019-04-28T18:58:44.917226Z"
    }
   },
   "outputs": [],
   "source": [
    "# GET /environments\n",
    "resp = requests.get(base + '/environments')\n",
    "resp"
   ]
  },
  {
   "cell_type": "code",
   "execution_count": null,
   "metadata": {
    "ExecuteTime": {
     "end_time": "2019-04-28T18:58:45.079485-04:00",
     "start_time": "2019-04-28T18:58:44.928928Z"
    }
   },
   "outputs": [],
   "source": [
    "resp.json()"
   ]
  },
  {
   "cell_type": "code",
   "execution_count": null,
   "metadata": {
    "ExecuteTime": {
     "end_time": "2019-04-28T18:58:45.296243-04:00",
     "start_time": "2019-04-28T18:58:45.084341Z"
    }
   },
   "outputs": [],
   "source": [
    "# CREATE new environment\n",
    "d = {'name' : 'new env',\n",
    "     'url' : 'https://localhost:1234'}\n",
    "url = base + '/environments'\n",
    "resp = requests.post(url, json=d)\n",
    "resp"
   ]
  },
  {
   "cell_type": "code",
   "execution_count": null,
   "metadata": {
    "ExecuteTime": {
     "end_time": "2019-04-28T18:58:45.331348-04:00",
     "start_time": "2019-04-28T18:58:45.302088Z"
    }
   },
   "outputs": [],
   "source": [
    "resp.text"
   ]
  },
  {
   "cell_type": "code",
   "execution_count": null,
   "metadata": {
    "ExecuteTime": {
     "end_time": "2019-04-28T18:58:45.422330-04:00",
     "start_time": "2019-04-28T18:58:45.333298Z"
    }
   },
   "outputs": [],
   "source": [
    "# Check that new environment is there\n",
    "resp = requests.get(base + '/environments')\n",
    "resp.json()"
   ]
  },
  {
   "cell_type": "code",
   "execution_count": null,
   "metadata": {
    "ExecuteTime": {
     "end_time": "2019-04-28T18:58:45.565996-04:00",
     "start_time": "2019-04-28T18:58:45.423305Z"
    }
   },
   "outputs": [],
   "source": [
    "# GET /notebooks/<id 1>\n",
    "import uuid\n",
    "i = uuid.UUID(int=1).hex\n",
    "resp = requests.get(base + '/notebooks/%s' % i)\n",
    "resp"
   ]
  },
  {
   "cell_type": "code",
   "execution_count": null,
   "metadata": {
    "ExecuteTime": {
     "end_time": "2019-04-28T18:58:45.650903-04:00",
     "start_time": "2019-04-28T18:58:45.571828Z"
    }
   },
   "outputs": [],
   "source": [
    "resp.json()"
   ]
  },
  {
   "cell_type": "code",
   "execution_count": null,
   "metadata": {
    "ExecuteTime": {
     "end_time": "2019-04-28T18:58:45.921142-04:00",
     "start_time": "2019-04-28T18:58:45.655757Z"
    }
   },
   "outputs": [],
   "source": [
    "# CREATE new notebook\n",
    "import nbformat\n",
    "nb = nbformat.read('API test notebook.ipynb', as_version=nbformat.NO_CONVERT)\n",
    "# simulate clear output\n",
    "for item in nb['cells']:\n",
    "    if item['cell_type'] == 'code':\n",
    "        item['outputs'] = []\n",
    "        \n",
    "js = {'title' : 'uploaded.ipynb',\n",
    "      'description' : 'API test notebook upload',\n",
    "      'notebook' : nb}\n",
    "\n",
    "url = base + '/stages'\n",
    "resp = requests.post(url, json=js)\n",
    "resp"
   ]
  },
  {
   "cell_type": "code",
   "execution_count": null,
   "metadata": {
    "ExecuteTime": {
     "end_time": "2019-04-28T18:58:45.927968-04:00",
     "start_time": "2019-04-28T18:58:45.923092Z"
    }
   },
   "outputs": [],
   "source": [
    "new_uuid = resp.text\n",
    "new_uuid"
   ]
  },
  {
   "cell_type": "code",
   "execution_count": null,
   "metadata": {
    "ExecuteTime": {
     "end_time": "2019-04-28T18:58:46.084480-04:00",
     "start_time": "2019-04-28T18:58:45.929919Z"
    }
   },
   "outputs": [],
   "source": [
    "# GET /notebooks/<new uuid>\n",
    "import uuid\n",
    "resp = requests.get(base + '/notebooks/%s' % new_uuid)\n",
    "resp"
   ]
  },
  {
   "cell_type": "code",
   "execution_count": null,
   "metadata": {
    "ExecuteTime": {
     "end_time": "2019-04-28T18:58:46.211005-04:00",
     "start_time": "2019-04-28T18:58:46.086431Z"
    }
   },
   "outputs": [],
   "source": [
    "js = resp.json()\n",
    "js.keys()"
   ]
  },
  {
   "cell_type": "code",
   "execution_count": null,
   "metadata": {
    "ExecuteTime": {
     "end_time": "2019-04-28T18:58:46.375910-04:00",
     "start_time": "2019-04-28T18:58:46.215887Z"
    }
   },
   "outputs": [],
   "source": [
    "# Write notebook to file\n",
    "import json\n",
    "with open(js['title'], 'w') as fp:\n",
    "    # add nbgallery uuid to notebook metadata\n",
    "    js['notebook']['metadata']['NBGALLERY_UUID'] = js['uuid']\n",
    "    s = json.dumps(js['notebook']) # nbformat takes strings to read, not dict objects\n",
    "    nb = nbformat.reads(s, as_version=nbformat.NO_CONVERT)\n",
    "    nbformat.write(nb, fp)"
   ]
  },
  {
   "cell_type": "code",
   "execution_count": null,
   "metadata": {},
   "outputs": [],
   "source": []
  }
 ],
 "metadata": {
  "kernelspec": {
   "display_name": "Python 3",
   "language": "python",
   "name": "python3"
  },
  "language_info": {
   "codemirror_mode": {
    "name": "ipython",
    "version": 3
   },
   "file_extension": ".py",
   "mimetype": "text/x-python",
   "name": "python",
   "nbconvert_exporter": "python",
   "pygments_lexer": "ipython3",
   "version": "3.5.1"
  }
 },
 "nbformat": 4,
 "nbformat_minor": 2
}
