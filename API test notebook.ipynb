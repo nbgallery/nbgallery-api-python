{
 "cells": [
  {
   "cell_type": "code",
   "execution_count": 1,
   "metadata": {
    "ExecuteTime": {
     "end_time": "2019-04-28T18:56:18.621444-04:00",
     "start_time": "2019-04-28T18:56:18.174313Z"
    }
   },
   "outputs": [
    {
     "data": {
      "text/plain": [
       "<Response [200]>"
      ]
     },
     "execution_count": 1,
     "metadata": {},
     "output_type": "execute_result"
    }
   ],
   "source": [
    "import requests\n",
    "\n",
    "### Entry point for docker/flask on Windows\n",
    "base = 'http://192.168.99.100:5000'\n",
    "\n",
    "### Entry point for linux probably\n",
    "# base = 'http://127.0.0.1:5000'\n",
    "\n",
    "resp = requests.get(base)\n",
    "resp"
   ]
  },
  {
   "cell_type": "code",
   "execution_count": 2,
   "metadata": {
    "ExecuteTime": {
     "end_time": "2019-04-28T18:56:18.634127-04:00",
     "start_time": "2019-04-28T18:56:18.622409Z"
    }
   },
   "outputs": [
    {
     "data": {
      "text/plain": [
       "<Response [200]>"
      ]
     },
     "execution_count": 2,
     "metadata": {},
     "output_type": "execute_result"
    }
   ],
   "source": [
    "# GET /environments\n",
    "resp = requests.get(base + '/environments')\n",
    "resp"
   ]
  },
  {
   "cell_type": "code",
   "execution_count": 3,
   "metadata": {
    "ExecuteTime": {
     "end_time": "2019-04-28T18:56:18.757544-04:00",
     "start_time": "2019-04-28T18:56:18.635091Z"
    }
   },
   "outputs": [
    {
     "data": {
      "text/plain": [
       "[{'name': 'default', 'url': 'http://localhost:8888'}]"
      ]
     },
     "execution_count": 3,
     "metadata": {},
     "output_type": "execute_result"
    }
   ],
   "source": [
    "resp.json()"
   ]
  },
  {
   "cell_type": "code",
   "execution_count": 4,
   "metadata": {
    "ExecuteTime": {
     "end_time": "2019-04-28T18:56:18.986292-04:00",
     "start_time": "2019-04-28T18:56:18.760469Z"
    }
   },
   "outputs": [
    {
     "data": {
      "text/plain": [
       "<Response [200]>"
      ]
     },
     "execution_count": 4,
     "metadata": {},
     "output_type": "execute_result"
    }
   ],
   "source": [
    "# CREATE new environment\n",
    "d = {'name' : 'new env',\n",
    "     'url' : 'https://localhost:1234'}\n",
    "url = base + '/environments'\n",
    "resp = requests.post(url, json=d)\n",
    "resp"
   ]
  },
  {
   "cell_type": "code",
   "execution_count": 5,
   "metadata": {
    "ExecuteTime": {
     "end_time": "2019-04-28T18:56:19.025455-04:00",
     "start_time": "2019-04-28T18:56:18.987269Z"
    }
   },
   "outputs": [
    {
     "data": {
      "text/plain": [
       "''"
      ]
     },
     "execution_count": 5,
     "metadata": {},
     "output_type": "execute_result"
    }
   ],
   "source": [
    "resp.text"
   ]
  },
  {
   "cell_type": "code",
   "execution_count": 6,
   "metadata": {
    "ExecuteTime": {
     "end_time": "2019-04-28T18:56:19.116546-04:00",
     "start_time": "2019-04-28T18:56:19.026426Z"
    }
   },
   "outputs": [
    {
     "data": {
      "text/plain": [
       "[{'name': 'default', 'url': 'http://localhost:8888'},\n",
       " {'name': 'new env', 'url': 'https://localhost:1234'}]"
      ]
     },
     "execution_count": 6,
     "metadata": {},
     "output_type": "execute_result"
    }
   ],
   "source": [
    "# Check that new environment is there\n",
    "resp = requests.get(base + '/environments')\n",
    "resp.json()"
   ]
  },
  {
   "cell_type": "code",
   "execution_count": 7,
   "metadata": {
    "ExecuteTime": {
     "end_time": "2019-04-28T18:56:19.233111-04:00",
     "start_time": "2019-04-28T18:56:19.117506Z"
    }
   },
   "outputs": [
    {
     "data": {
      "text/plain": [
       "<Response [200]>"
      ]
     },
     "execution_count": 7,
     "metadata": {},
     "output_type": "execute_result"
    }
   ],
   "source": [
    "# GET /notebooks/<id 1>\n",
    "import uuid\n",
    "i = uuid.UUID(int=1).hex\n",
    "resp = requests.get(base + '/notebooks/%s' % i)\n",
    "resp"
   ]
  },
  {
   "cell_type": "code",
   "execution_count": 8,
   "metadata": {
    "ExecuteTime": {
     "end_time": "2019-04-28T18:56:19.331891-04:00",
     "start_time": "2019-04-28T18:56:19.234085Z"
    }
   },
   "outputs": [
    {
     "data": {
      "text/plain": [
       "{'description': 'Default DB notebook entry',\n",
       " 'notebook': {'cells': [],\n",
       "  'language_info': {},\n",
       "  'metadata': {'display_name': 'Python 3',\n",
       "   'language': 'python',\n",
       "   'name': 'python3'},\n",
       "  'nbformat': 4,\n",
       "  'nbformat_minor': 2},\n",
       " 'title': 'Default DB notebook',\n",
       " 'uuid': '00000000000000000000000000000001'}"
      ]
     },
     "execution_count": 8,
     "metadata": {},
     "output_type": "execute_result"
    }
   ],
   "source": [
    "resp.json()"
   ]
  },
  {
   "cell_type": "code",
   "execution_count": 9,
   "metadata": {
    "ExecuteTime": {
     "end_time": "2019-04-28T18:56:19.601705-04:00",
     "start_time": "2019-04-28T18:56:19.333825Z"
    }
   },
   "outputs": [
    {
     "data": {
      "text/plain": [
       "<Response [200]>"
      ]
     },
     "execution_count": 9,
     "metadata": {},
     "output_type": "execute_result"
    }
   ],
   "source": [
    "# CREATE new notebook\n",
    "import nbformat\n",
    "nb = nbformat.read('API test notebook.ipynb', as_version=nbformat.NO_CONVERT)\n",
    "# simulate clear output\n",
    "for item in nb['cells']:\n",
    "    if item['cell_type'] == 'code':\n",
    "        item['outputs'] = []\n",
    "        \n",
    "js = {'title' : 'uploaded.ipynb',\n",
    "      'description' : 'API test notebook upload',\n",
    "      'notebook' : nb}\n",
    "\n",
    "url = base + '/stages'\n",
    "resp = requests.post(url, json=js)\n",
    "resp"
   ]
  },
  {
   "cell_type": "code",
   "execution_count": 10,
   "metadata": {
    "ExecuteTime": {
     "end_time": "2019-04-28T18:56:19.607558-04:00",
     "start_time": "2019-04-28T18:56:19.602680Z"
    }
   },
   "outputs": [
    {
     "data": {
      "text/plain": [
       "'a5ed8f92812b4b23b11ec046470357ac'"
      ]
     },
     "execution_count": 10,
     "metadata": {},
     "output_type": "execute_result"
    }
   ],
   "source": [
    "new_uuid = resp.text\n",
    "new_uuid"
   ]
  },
  {
   "cell_type": "code",
   "execution_count": 11,
   "metadata": {
    "ExecuteTime": {
     "end_time": "2019-04-28T18:56:19.804964-04:00",
     "start_time": "2019-04-28T18:56:19.608542Z"
    }
   },
   "outputs": [
    {
     "data": {
      "text/plain": [
       "<Response [200]>"
      ]
     },
     "execution_count": 11,
     "metadata": {},
     "output_type": "execute_result"
    }
   ],
   "source": [
    "# GET /notebooks/<new uuid>\n",
    "import uuid\n",
    "resp = requests.get(base + '/notebooks/%s' % new_uuid)\n",
    "resp"
   ]
  },
  {
   "cell_type": "code",
   "execution_count": 12,
   "metadata": {
    "ExecuteTime": {
     "end_time": "2019-04-28T18:56:19.900595-04:00",
     "start_time": "2019-04-28T18:56:19.810789Z"
    }
   },
   "outputs": [
    {
     "data": {
      "text/plain": [
       "dict_keys(['title', 'description', 'notebook', 'uuid'])"
      ]
     },
     "execution_count": 12,
     "metadata": {},
     "output_type": "execute_result"
    }
   ],
   "source": [
    "js = resp.json()\n",
    "js.keys()"
   ]
  },
  {
   "cell_type": "code",
   "execution_count": 13,
   "metadata": {
    "ExecuteTime": {
     "end_time": "2019-04-28T18:56:20.028577-04:00",
     "start_time": "2019-04-28T18:56:19.903535Z"
    }
   },
   "outputs": [],
   "source": [
    "# Write notebook to file\n",
    "import json\n",
    "with open(js['title'], 'w') as fp:\n",
    "    # add nbgallery uuid to notebook metadata\n",
    "    js['notebook']['metadata']['NBGALLERY_UUID'] = js['uuid']\n",
    "    s = json.dumps(js['notebook']) # nbformat takes strings to read, not dict objects\n",
    "    nb = nbformat.reads(s, as_version=nbformat.NO_CONVERT)\n",
    "    nbformat.write(nb, fp)"
   ]
  },
  {
   "cell_type": "code",
   "execution_count": null,
   "metadata": {},
   "outputs": [],
   "source": []
  }
 ],
 "metadata": {
  "kernelspec": {
   "display_name": "Python 3",
   "language": "python",
   "name": "python3"
  },
  "language_info": {
   "codemirror_mode": {
    "name": "ipython",
    "version": 3
   },
   "file_extension": ".py",
   "mimetype": "text/x-python",
   "name": "python",
   "nbconvert_exporter": "python",
   "pygments_lexer": "ipython3",
   "version": "3.5.1"
  }
 },
 "nbformat": 4,
 "nbformat_minor": 2
}
